{
 "cells": [
  {
   "cell_type": "code",
   "execution_count": null,
   "metadata": {
    "colab": {
     "base_uri": "https://localhost:8080/"
    },
    "id": "NAkpCxSPSl9i",
    "outputId": "a647eae0-715a-449e-d635-5ff9ffa1517c"
   },
   "outputs": [
    {
     "name": "stdout",
     "output_type": "stream",
     "text": [
      "+----+------+----+--------+---------+------+-----+------------+\n",
      "|Home| Price|SqFt|Bedrooms|Bathrooms|Offers|Brick|Neighborhood|\n",
      "+----+------+----+--------+---------+------+-----+------------+\n",
      "|   1|114300|1790|       2|        2|     2|   No|        East|\n",
      "|   2|114200|2030|       4|        2|     3|   No|        East|\n",
      "|   3|114800|1740|       3|        2|     1|   No|        East|\n",
      "|   4| 94700|1980|       3|        2|     3|   No|        East|\n",
      "|   5|119800|2130|       3|        3|     3|   No|        East|\n",
      "|   6|114600|1780|       3|        2|     2|   No|       North|\n",
      "|   7|151600|1830|       3|        3|     3|  Yes|        West|\n",
      "|   8|150700|2160|       4|        2|     2|   No|        West|\n",
      "|   9|119200|2110|       4|        2|     3|   No|        East|\n",
      "|  10|104000|1730|       3|        3|     3|   No|        East|\n",
      "|  11|132500|2030|       3|        2|     3|  Yes|        East|\n",
      "|  12|123000|1870|       2|        2|     2|  Yes|        East|\n",
      "|  13|102600|1910|       3|        2|     4|   No|       North|\n",
      "|  14|126300|2150|       3|        3|     5|  Yes|       North|\n",
      "|  15|176800|2590|       4|        3|     4|   No|        West|\n",
      "|  16|145800|1780|       4|        2|     1|   No|        West|\n",
      "|  17|147100|2190|       3|        3|     4|  Yes|        East|\n",
      "|  18| 83600|1990|       3|        3|     4|   No|       North|\n",
      "|  19|111400|1700|       2|        2|     1|  Yes|        East|\n",
      "|  20|167200|1920|       3|        3|     2|  Yes|        West|\n",
      "+----+------+----+--------+---------+------+-----+------------+\n",
      "only showing top 20 rows\n",
      "\n"
     ]
    }
   ],
   "source": [
    "from pyspark.sql import SparkSession\n",
    "\n",
    "\n",
    "spark = SparkSession.builder.master(\"local[4]\").appName(\"HousePricePrediction\").getOrCreate()\n",
    "\n",
    "\n",
    "file_path = \"house-prices.csv\"  \n",
    "data = spark.read.csv(file_path, header=True, inferSchema=True)\n",
    "\n",
    "\n",
    "data.show()\n"
   ]
  },
  {
   "cell_type": "code",
   "execution_count": null,
   "metadata": {
    "colab": {
     "base_uri": "https://localhost:8080/"
    },
    "id": "OCXKs6AWS_8Z",
    "outputId": "13217c0e-f23f-470e-a077-d2d7c7f0cb4f"
   },
   "outputs": [
    {
     "name": "stdout",
     "output_type": "stream",
     "text": [
      "+----------------+------+\n",
      "|        features| Price|\n",
      "+----------------+------+\n",
      "|[1790.0,2.0,2.0]|114300|\n",
      "|[2030.0,4.0,2.0]|114200|\n",
      "|[1740.0,3.0,2.0]|114800|\n",
      "|[1980.0,3.0,2.0]| 94700|\n",
      "|[2130.0,3.0,3.0]|119800|\n",
      "|[1780.0,3.0,2.0]|114600|\n",
      "|[1830.0,3.0,3.0]|151600|\n",
      "|[2160.0,4.0,2.0]|150700|\n",
      "|[2110.0,4.0,2.0]|119200|\n",
      "|[1730.0,3.0,3.0]|104000|\n",
      "|[2030.0,3.0,2.0]|132500|\n",
      "|[1870.0,2.0,2.0]|123000|\n",
      "|[1910.0,3.0,2.0]|102600|\n",
      "|[2150.0,3.0,3.0]|126300|\n",
      "|[2590.0,4.0,3.0]|176800|\n",
      "|[1780.0,4.0,2.0]|145800|\n",
      "|[2190.0,3.0,3.0]|147100|\n",
      "|[1990.0,3.0,3.0]| 83600|\n",
      "|[1700.0,2.0,2.0]|111400|\n",
      "|[1920.0,3.0,3.0]|167200|\n",
      "+----------------+------+\n",
      "only showing top 20 rows\n",
      "\n"
     ]
    }
   ],
   "source": [
    "from pyspark.ml.feature import VectorAssembler\n",
    "\n",
    "\n",
    "assembler = VectorAssembler(inputCols=[\"SqFt\", \"Bedrooms\", \"Bathrooms\"], outputCol=\"features\")\n",
    "data = assembler.transform(data).select(\"features\", \"Price\")\n",
    "\n",
    "\n",
    "data.show()\n"
   ]
  },
  {
   "cell_type": "code",
   "execution_count": null,
   "metadata": {
    "colab": {
     "base_uri": "https://localhost:8080/"
    },
    "id": "_wsnX7n6TNTv",
    "outputId": "ae3a986b-05c1-4e46-b869-00aab2fd50ae"
   },
   "outputs": [
    {
     "name": "stdout",
     "output_type": "stream",
     "text": [
      "Training Data Count: 106\n",
      "Test Data Count: 22\n"
     ]
    }
   ],
   "source": [
    "\n",
    "train_data, test_data = data.randomSplit([0.8, 0.2], seed=42)\n",
    "\n",
    "\n",
    "print(f\"Training Data Count: {train_data.count()}\")\n",
    "print(f\"Test Data Count: {test_data.count()}\")\n"
   ]
  },
  {
   "cell_type": "code",
   "execution_count": null,
   "metadata": {
    "colab": {
     "base_uri": "https://localhost:8080/"
    },
    "id": "vea-xCe0TQnh",
    "outputId": "7c99d8d4-8064-4f3d-9db6-cfe84c123193"
   },
   "outputs": [
    {
     "name": "stdout",
     "output_type": "stream",
     "text": [
      "Coefficients: [34.90751731139586,11056.499492136118,17474.42629513101]\n",
      "Intercept: -14926.095898035921\n"
     ]
    }
   ],
   "source": [
    "from pyspark.ml.regression import LinearRegression\n",
    "\n",
    "\n",
    "lr = LinearRegression(featuresCol=\"features\", labelCol=\"Price\")\n",
    "\n",
    "\n",
    "lr_model = lr.fit(train_data)\n",
    "\n",
    "\n",
    "print(\"Coefficients:\", lr_model.coefficients)\n",
    "print(\"Intercept:\", lr_model.intercept)\n"
   ]
  },
  {
   "cell_type": "code",
   "execution_count": null,
   "metadata": {
    "colab": {
     "base_uri": "https://localhost:8080/"
    },
    "id": "F77KfzHATX5Z",
    "outputId": "6a594273-4db0-4c17-c589-d4159f96bf7e"
   },
   "outputs": [
    {
     "name": "stdout",
     "output_type": "stream",
     "text": [
      "+----------------+------+------------------+\n",
      "|        features| Price|        prediction|\n",
      "+----------------+------+------------------+\n",
      "|[1560.0,2.0,2.0]|106600| 96591.48268227588|\n",
      "|[1650.0,3.0,2.0]|107300|110789.65873243762|\n",
      "|[1700.0,2.0,2.0]|111400| 101478.5351058713|\n",
      "|[1720.0,3.0,2.0]|131300|113233.18494423531|\n",
      "|[1780.0,4.0,2.0]|143600| 126384.1354750552|\n",
      "|[1810.0,3.0,2.0]|103200|116374.86150226096|\n",
      "|[1860.0,3.0,2.0]|130300|118120.23736783076|\n",
      "|[1900.0,3.0,3.0]|102500| 136990.9643554176|\n",
      "|[1920.0,4.0,2.0]|143100|131271.18789865062|\n",
      "|[1930.0,2.0,2.0]|112300|109507.26408749234|\n",
      "|[1930.0,2.0,3.0]|110400|126981.69038262335|\n",
      "|[1930.0,3.0,3.0]|105600|138038.18987475947|\n",
      "|[1940.0,2.0,2.0]|123600| 109856.3392606063|\n",
      "|[1970.0,2.0,2.0]|152500|110903.56477994818|\n",
      "|[2000.0,2.0,2.0]|117800|111950.79029929006|\n",
      "|[2010.0,4.0,3.0]|124500|151887.29075180728|\n",
      "|[2050.0,3.0,2.0]| 90300|124752.66565699596|\n",
      "|[2150.0,4.0,3.0]|160600|156774.34317540267|\n",
      "|[2250.0,3.0,3.0]|124600|149208.59541440615|\n",
      "|[2260.0,3.0,3.0]|123100|149557.67058752012|\n",
      "+----------------+------+------------------+\n",
      "only showing top 20 rows\n",
      "\n"
     ]
    }
   ],
   "source": [
    "\n",
    "predictions = lr_model.transform(test_data)\n",
    "\n",
    "\n",
    "predictions.select(\"features\", \"Price\", \"prediction\").show()\n"
   ]
  },
  {
   "cell_type": "code",
   "execution_count": null,
   "metadata": {
    "colab": {
     "base_uri": "https://localhost:8080/"
    },
    "id": "LKh3AMu1TdX6",
    "outputId": "1e78bd5a-b165-4a8a-8ba3-de151e85f689"
   },
   "outputs": [
    {
     "name": "stdout",
     "output_type": "stream",
     "text": [
      "Root Mean Squared Error (RMSE): 21674.389241589663\n"
     ]
    }
   ],
   "source": [
    "from pyspark.ml.evaluation import RegressionEvaluator\n",
    "\n",
    "\n",
    "evaluator = RegressionEvaluator(labelCol=\"Price\", predictionCol=\"prediction\", metricName=\"rmse\")\n",
    "rmse = evaluator.evaluate(predictions)\n",
    "\n",
    "print(f\"Root Mean Squared Error (RMSE): {rmse}\")\n"
   ]
  },
  {
   "cell_type": "code",
   "execution_count": null,
   "metadata": {
    "id": "pSg1DICETiy0"
   },
   "outputs": [],
   "source": []
  }
 ],
 "metadata": {
  "accelerator": "GPU",
  "colab": {
   "gpuType": "T4",
   "provenance": []
  },
  "kernelspec": {
   "display_name": "Python 3",
   "name": "python3"
  },
  "language_info": {
   "name": "python"
  }
 },
 "nbformat": 4,
 "nbformat_minor": 0
}
